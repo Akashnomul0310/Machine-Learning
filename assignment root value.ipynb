{
 "cells": [
  {
   "cell_type": "code",
   "execution_count": null,
   "metadata": {},
   "outputs": [],
   "source": [
    "class roots:\n",
    "    raiseto= 0.5\n",
    "    cubet=0.33\n",
    "    def __init__(self,squareroot,cubeto,nthh):\n",
    "        self.squareroot= squareroot\n",
    "        self.cubeto= cubeto\n",
    "        self.nthh= nthh\n",
    "    def get_sqrte(self):\n",
    "        return self.squareroot**self.raiseto\n",
    "    def get_cub(self):\n",
    "        return self.cubeto**self.cubet \n",
    "    def get_nth(self,nthh,value,root):\n",
    "        value= int(input(\"enter value\"))\n",
    "        root= int(input(\"enter root\"))\n",
    "        self.value = value\n",
    "        self.root = root\n",
    "        n=value**(1/root)\n",
    "        return n\n"
   ]
  }
 ],
 "metadata": {
  "kernelspec": {
   "display_name": "Python 3",
   "language": "python",
   "name": "python3"
  },
  "language_info": {
   "codemirror_mode": {
    "name": "ipython",
    "version": 3
   },
   "file_extension": ".py",
   "mimetype": "text/x-python",
   "name": "python",
   "nbconvert_exporter": "python",
   "pygments_lexer": "ipython3",
   "version": "3.7.4"
  }
 },
 "nbformat": 4,
 "nbformat_minor": 2
}
